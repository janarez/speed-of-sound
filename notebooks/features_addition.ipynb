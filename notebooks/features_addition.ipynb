{
 "cells": [
  {
   "cell_type": "markdown",
   "metadata": {},
   "source": [
    "# Data enhancement by ion specific features\n",
    "\n",
    "In this notebook all dataframes loaded in `data_loadinig.ipynb` are enhanced with ion specific features. These features are subsequently scaled by selected range."
   ]
  },
  {
   "cell_type": "code",
   "execution_count": null,
   "metadata": {},
   "outputs": [],
   "source": [
    "# dependencies\n",
    "\n",
    "import pandas as pd\n",
    "import numpy as np"
   ]
  },
  {
   "cell_type": "markdown",
   "metadata": {},
   "source": [
    "__Restore all dataframes created in `data_loading.ipynb`__"
   ]
  },
  {
   "cell_type": "code",
   "execution_count": null,
   "metadata": {},
   "outputs": [],
   "source": [
    "%store -r all_cation_dfs\n",
    "%store -r all_anion_dfs"
   ]
  },
  {
   "cell_type": "code",
   "execution_count": null,
   "metadata": {},
   "outputs": [],
   "source": [
    "# Lists storing used ionic species\n",
    "cations = [\"Na\", \"K\", \"Li\", \"NH4\", \"H\"]\n",
    "anions = [\"Br\",\"Cl\", \"I\", \"2SO4\", \"2CO3\", \"NO3\", \"OH\"]"
   ]
  },
  {
   "cell_type": "markdown",
   "metadata": {},
   "source": [
    "## Ion specific features data\n",
    "Additional data for model enhancement. All features have values ordered by ions the same way as cations and anions lists defined above.\n"
   ]
  },
  {
   "cell_type": "code",
   "execution_count": null,
   "metadata": {},
   "outputs": [],
   "source": [
    "# charges of ionic species\n",
    "# order kept from cations / anions lists \n",
    "# (also true for all additional features)\n",
    "\n",
    "c_q = [1,1,1,1,1]\n",
    "a_q = [1,1,1,2,2,1,1]"
   ]
  },
  {
   "cell_type": "code",
   "execution_count": null,
   "metadata": {},
   "outputs": [],
   "source": [
    "# molar weight\n",
    "c_mw = [22.990,39.098,6.941, 18.038, 1.008]\n",
    "a_mw = [79.904,35.453,126.904,96.063,60.009,62.005,17.007]"
   ]
  },
  {
   "cell_type": "code",
   "execution_count": null,
   "metadata": {},
   "outputs": [],
   "source": [
    "# number of protons\n",
    "a_Z = [35,17,53,48,30,31,9]\n",
    "c_Z = [11,19,3,11,1]"
   ]
  },
  {
   "cell_type": "code",
   "execution_count": null,
   "metadata": {},
   "outputs": [],
   "source": [
    "# entropy of solvation\n",
    "c_es = [59,102.5,13.4,96.9,0]\n",
    "a_es = [82.4,56.5,111.3,18.8,-43.2,146.6,-10.7]"
   ]
  },
  {
   "cell_type": "code",
   "execution_count": null,
   "metadata": {},
   "outputs": [],
   "source": [
    "# ionic radius\n",
    "c_r = [0.102, 0.138, 0.069, 0.148, 0.03]\n",
    "a_r = [0.196,0.181,0.22,0.23,0.178,0.179,0.133]"
   ]
  },
  {
   "cell_type": "code",
   "execution_count": null,
   "metadata": {},
   "outputs": [],
   "source": [
    "# hydration shell width\n",
    "c_dr = [0.116,0.074,0.172,0.065,0.3]\n",
    "a_dr = [0.035,0.043,0.026,0.043,0.076,0.044,0.079]"
   ]
  },
  {
   "cell_type": "code",
   "execution_count": null,
   "metadata": {},
   "outputs": [],
   "source": [
    "# hydration number\n",
    "c_hn = [3.5,2.6,5.2,2.4,12]\n",
    "a_hn = [1.8,2,1.6,3.1,4,2,2.7]"
   ]
  },
  {
   "cell_type": "code",
   "execution_count": null,
   "metadata": {},
   "outputs": [],
   "source": [
    "# Gibbs electrical energy\n",
    "c_ge = [-440,-372,-558,-358,-1058]\n",
    "a_ge = [-297,-315,-272,-1010,-1195,-317,-380]"
   ]
  },
  {
   "cell_type": "code",
   "execution_count": null,
   "metadata": {},
   "outputs": [],
   "source": [
    "# Gibbs hydration energy\n",
    "c_gh = [-365,-295,-475,-285,-1050]\n",
    "a_gh = [-315,-340,-275,-1080,-1315,-300,-430]"
   ]
  },
  {
   "cell_type": "code",
   "execution_count": null,
   "metadata": {},
   "outputs": [],
   "source": [
    "# acid pKa, base pKb\n",
    "a_pK = [-9,-8,-10,-3,6.37,-1.3,15.7]\n",
    "c_pK = [0.2,0.5,-0.36,4.75,-1.7]"
   ]
  },
  {
   "cell_type": "code",
   "execution_count": null,
   "metadata": {},
   "outputs": [],
   "source": [
    "# features is a list of all feauture lists\n",
    "# fnames holds the names of the features\n",
    "\n",
    "anion_features = [a_es, a_Z, a_r,a_dr,a_hn,a_ge,a_gh, a_mw, a_q, a_pK]\n",
    "anion_fnames = [\"a_es\",\"a_Z\",\"a_r\",\"a_dr\",\"a_hn\",\"a_ge\", \"a_gh\", \"a_mw\", \"a_q\", \"a_pK\"]\n",
    "\n",
    "cation_features = [c_es, c_Z, c_r,c_dr,c_hn,c_ge,c_gh, c_mw, c_q, c_pK]\n",
    "cation_fnames = [\"c_es\",\"c_Z\",\"c_r\",\"c_dr\",\"c_hn\",\"c_ge\", \"c_gh\", \"c_mw\", \"c_q\", \"c_pK\"]"
   ]
  },
  {
   "cell_type": "markdown",
   "metadata": {},
   "source": [
    "## Ion specific features ranges\n",
    "Definition of ranges for all ion specific features. The range is defined as a tuple of minimum and maximum possible values. The ranges are used for scaling by a selected range. \n"
   ]
  },
  {
   "cell_type": "code",
   "execution_count": null,
   "metadata": {},
   "outputs": [],
   "source": [
    "# feature ranges - the comments specify which species are responsible for the limits\n",
    "rc_q = (1,2)\n",
    "ra_q = (1,2)\n",
    "\n",
    "rc_mw = (1.008, 87.62)    # (H, Sr)\n",
    "ra_mw = (17.007, 126.904)  # (OH, I)\n",
    "\n",
    "rc_Z = (1, 38)     # (H, Sr)\n",
    "ra_Z = (9, 53)     # (OH, I)\n",
    "\n",
    "rc_es = (-130,130)\n",
    "ra_es = (-50,150)\n",
    "\n",
    "rc_dr = (0.06,0.300) # (Rb+ to H+)\n",
    "ra_dr = (0.019,0.079)   # (ClO4- to F-)\n",
    "\n",
    "rc_r = (0.03,0.149) # (H+ to Rb+)\n",
    "ra_r = (0.133,0.250) # (F- to ClO4-)\n",
    "\n",
    "rc_hn = (2.4,12)  # (Rb+ to H+)\n",
    "ra_hn = (1.4, 4)  # (ClO4-, CO32-)\n",
    "\n",
    "rc_ge = (-3225,-356)  #  (Be2+,Rb+)\n",
    "ra_ge = (-1195,-245)  # (CO32-,ClO4-)\n",
    "\n",
    "rc_gh = (-2395,-275) #  (Be2+,Rb+)\n",
    "ra_gh = (-1315,-275)  # (CO32-, I-)\n",
    "\n",
    "ra_pK = (-10,15.7)  # (HI, H2O)\n",
    "rc_pK = (-1.7, 5.4)   # (H2O, BeOH2)\n",
    "\n"
   ]
  },
  {
   "cell_type": "code",
   "execution_count": null,
   "metadata": {},
   "outputs": [],
   "source": [
    "# natural_ranges is a list of all feauture range tuples\n",
    "\n",
    "a_natural_ranges = [ra_es, ra_Z, ra_r,ra_dr,ra_hn,ra_ge,ra_gh, ra_mw, ra_q, ra_pK]\n",
    "c_natural_ranges = [rc_es, rc_Z, rc_r,rc_dr,rc_hn,rc_ge,rc_gh, rc_mw, rc_q, rc_pK]"
   ]
  },
  {
   "cell_type": "markdown",
   "metadata": {},
   "source": [
    "## Addition of ion specific features to dataframes\n",
    "\n",
    "Addition is done through the __all_cation_dfs__ list."
   ]
  },
  {
   "cell_type": "markdown",
   "metadata": {},
   "source": [
    "__Helper functions__"
   ]
  },
  {
   "cell_type": "code",
   "execution_count": null,
   "metadata": {},
   "outputs": [],
   "source": [
    "def add_anion_feature(df_list, *, feature, values):   \n",
    "    \"\"\"\n",
    "    Add features to every df in df_list.\n",
    "    Feature name is stored in parameter feature.\n",
    "    Feature values are obtained from list values.\n",
    "    df_list and values must be ordered by anions in the same way.\n",
    "    \"\"\"\n",
    "    \n",
    "    for i, df in enumerate(df_list):\n",
    "        if df.empty:\n",
    "            continue\n",
    "        df[feature] = values[i]  "
   ]
  },
  {
   "cell_type": "code",
   "execution_count": null,
   "metadata": {},
   "outputs": [],
   "source": [
    "def add_cation_feature(dfs, *, feature, values):\n",
    "    \"\"\"\n",
    "    Add features to every df in df_list (dfs is list of df_lists).\n",
    "    Feature name is stored in parameter feature.\n",
    "    Feature values are obtained from list values.\n",
    "    dfs and values must be ordered by cations in the same way.\n",
    "    \"\"\"\n",
    "        \n",
    "    for i, df_list in enumerate(dfs):\n",
    "        for df in df_list:\n",
    "            if df.empty:\n",
    "                continue\n",
    "            df[feature] = values[i] "
   ]
  },
  {
   "cell_type": "markdown",
   "metadata": {},
   "source": [
    "### Addition of all ion specific features to all electrolyte DataFrames"
   ]
  },
  {
   "cell_type": "code",
   "execution_count": null,
   "metadata": {},
   "outputs": [],
   "source": [
    "# anion features\n",
    "for fn,fv in zip(anion_fnames, anion_features):\n",
    "    for df_list in all_cation_dfs:\n",
    "        add_anion_feature(df_list, feature = fn, values = fv)"
   ]
  },
  {
   "cell_type": "code",
   "execution_count": null,
   "metadata": {},
   "outputs": [],
   "source": [
    "# cation features\n",
    "for fn,fv in zip(cation_fnames, cation_features):\n",
    "    add_cation_feature(all_cation_dfs, feature = fn, values = fv)"
   ]
  },
  {
   "cell_type": "code",
   "execution_count": null,
   "metadata": {},
   "outputs": [],
   "source": [
    "# add electrolyte name as another feature\n",
    "# this is not a modelling feature, only informative one\n",
    "\n",
    "for cation,df_list in zip(cations, all_cation_dfs):\n",
    "    for anion, df in zip(anions, df_list):\n",
    "        df[\"medium\"] = cation + anion"
   ]
  },
  {
   "cell_type": "markdown",
   "metadata": {},
   "source": [
    "## Creation of dataset for ML task"
   ]
  },
  {
   "cell_type": "code",
   "execution_count": null,
   "metadata": {},
   "outputs": [],
   "source": [
    "# appends all enhanced electrolyte dataframes into one \n",
    "\n",
    "df_generator = (df for df in all_cation_dfs)\n",
    "dataframe = pd.DataFrame([])\n",
    "for df_list in df_generator:\n",
    "    dataframe = dataframe.append(pd.concat([df for df in df_list], \n",
    "                                           ignore_index=True, \n",
    "                                           sort = False),\n",
    "                                 sort = False)"
   ]
  },
  {
   "cell_type": "code",
   "execution_count": null,
   "metadata": {},
   "outputs": [],
   "source": [
    "dataframe.shape"
   ]
  },
  {
   "cell_type": "markdown",
   "metadata": {},
   "source": [
    "__Load datasets for outside matrix test__<br>\n",
    "The lines below should be uncommented and run to add derived features to RbI dataset used for outside matrix test. The dataset already contains remaining ion specific features, so only all cells from here down must be run."
   ]
  },
  {
   "cell_type": "code",
   "execution_count": null,
   "metadata": {},
   "outputs": [],
   "source": [
    "# uncomment to enrich and scale outside matrix test data\n",
    "\n",
    "#path = r\"../data/outtest/\" \n",
    "#dataframe = pd.read_csv(path + \"water_RbI.csv\", index_col=0)\n",
    "#dataframe.shape"
   ]
  },
  {
   "cell_type": "markdown",
   "metadata": {},
   "source": [
    "## Addition of derived features and their ranges"
   ]
  },
  {
   "cell_type": "code",
   "execution_count": null,
   "metadata": {},
   "outputs": [],
   "source": [
    "# number of ions from complete dissociation of the electrolyte\n",
    "\n",
    "dataframe[\"moles\"] = dataframe[\"a_q\"] + dataframe[\"c_q\"]\n",
    "# the range\n",
    "r_moles = tuple(sum(x) for x in zip(ra_q, rc_q))"
   ]
  },
  {
   "cell_type": "code",
   "execution_count": null,
   "metadata": {},
   "outputs": [],
   "source": [
    "# geometric mean of cation/anion proton numbers\n",
    "\n",
    "dataframe[\"Z\"] = np.sqrt(dataframe[\"a_Z\"] * dataframe[\"c_Z\"])\n",
    "# the range\n",
    "r_Z = tuple(np.sqrt(np.prod(x)) for x in zip(ra_Z, rc_Z))"
   ]
  },
  {
   "cell_type": "code",
   "execution_count": null,
   "metadata": {},
   "outputs": [],
   "source": [
    "# water equilibrium constant\n",
    "dataframe[\"Kw\"] = np.exp(-1 / dataframe[\"T\"])"
   ]
  },
  {
   "cell_type": "code",
   "execution_count": null,
   "metadata": {},
   "outputs": [],
   "source": [
    "# transformed molality feature\n",
    "dataframe[\"cm\"] = dataframe[\"c\"] ** (2/3)"
   ]
  },
  {
   "cell_type": "code",
   "execution_count": null,
   "metadata": {},
   "outputs": [],
   "source": [
    "# ionic strength\n",
    "dataframe[\"is\"] = 0.5 * (dataframe[\"c\"] * np.power(dataframe[\"a_q\"],2)\n",
    "                         * dataframe[\"c_q\"] \n",
    "                         +\n",
    "                         dataframe[\"c\"] * np.power(dataframe[\"c_q\"],2) \n",
    "                         * dataframe[\"a_q\"])"
   ]
  },
  {
   "cell_type": "code",
   "execution_count": null,
   "metadata": {},
   "outputs": [],
   "source": [
    "# list of all derived features names\n",
    "derived = [\"moles\",\"Z\", \"Kw\", \"cm\", \"is\"]"
   ]
  },
  {
   "cell_type": "markdown",
   "metadata": {},
   "source": [
    "## Scaling by a range for all ion specific features\n",
    "The following scaling relation is employed to squash all ion specific features into $[-1,1]$ range:<br><br>\n",
    "<center>$x' = \\frac{(2x - max - min)}{(max - min)}$ </center>"
   ]
  },
  {
   "cell_type": "code",
   "execution_count": null,
   "metadata": {},
   "outputs": [],
   "source": [
    "# scale anion features\n",
    "\n",
    "for (minimum, maximum), f in zip(a_natural_ranges, anion_fnames):\n",
    "    dataframe[f] = (2*dataframe[f] - maximum - minimum) / (maximum - minimum)"
   ]
  },
  {
   "cell_type": "code",
   "execution_count": null,
   "metadata": {},
   "outputs": [],
   "source": [
    "# scale cation features\n",
    "\n",
    "for (minimum, maximum), f in zip(c_natural_ranges, cation_fnames):\n",
    "    dataframe[f] = (2*dataframe[f] - maximum - minimum) / (maximum - minimum)"
   ]
  },
  {
   "cell_type": "code",
   "execution_count": null,
   "metadata": {},
   "outputs": [],
   "source": [
    "# scale derived feautes\n",
    "\n",
    "dataframe[\"Z\"] = (2*dataframe[\"Z\"] - r_Z[1] \n",
    "                  - r_Z[0]) / (r_Z[1] - r_Z[0])\n",
    "dataframe[\"moles\"] = (2*dataframe[\"moles\"] - r_moles[1]\n",
    "                      - r_moles[0]) / (r_moles[1] - r_moles[0])"
   ]
  },
  {
   "cell_type": "markdown",
   "metadata": {},
   "source": [
    "## Dataset saving"
   ]
  },
  {
   "cell_type": "code",
   "execution_count": null,
   "metadata": {},
   "outputs": [],
   "source": [
    "# order columns inside the dataframe\n",
    "# this also quarantees that no other feature will be present\n",
    "# some raw CSV files might have additional column, such as density\n",
    "\n",
    "dataframe = dataframe[[\"T\",\"c\"] \n",
    "                      + anion_fnames \n",
    "                      + cation_fnames \n",
    "                      + derived \n",
    "                      + [\"medium\",\"sound\"]]"
   ]
  },
  {
   "cell_type": "markdown",
   "metadata": {},
   "source": [
    "### Drop all features not considered for model training"
   ]
  },
  {
   "cell_type": "code",
   "execution_count": null,
   "metadata": {},
   "outputs": [],
   "source": [
    "# the proton number features are dropped,\n",
    "# because they are very similar to molar weight\n",
    "# they were only used for creation of the Z feature\n",
    "\n",
    "dataframe = dataframe.drop([\"c_Z\"], axis = 1)\n",
    "dataframe = dataframe.drop([\"a_Z\"], axis = 1)\n",
    "\n",
    "# the cation charge feature is dropped,\n",
    "# because only single charged cation data are available\n",
    "# this line should be deleted if double charge cation\n",
    "# data become available\n",
    "\n",
    "dataframe = dataframe.drop([\"c_q\"], axis = 1)"
   ]
  },
  {
   "cell_type": "code",
   "execution_count": null,
   "metadata": {},
   "outputs": [],
   "source": [
    "# print dataframe size\n",
    "dataframe.shape"
   ]
  },
  {
   "cell_type": "code",
   "execution_count": null,
   "metadata": {
    "scrolled": true
   },
   "outputs": [],
   "source": [
    "# check that scaling and feature dropping went well\n",
    "# and no data is missing\n",
    "\n",
    "# also explore feature statistics\n",
    "# no ion specific feature std should be too low, \n",
    "# they have to remain discriminative\n",
    "\n",
    "dataframe.describe().transpose()"
   ]
  },
  {
   "cell_type": "code",
   "execution_count": null,
   "metadata": {},
   "outputs": [],
   "source": [
    "# directory to save datasets\n",
    "path = r\"../datasets/\""
   ]
  },
  {
   "cell_type": "code",
   "execution_count": null,
   "metadata": {},
   "outputs": [],
   "source": [
    "# save the dataframe into CSV file\n",
    "# use the outtest_dataset version, when handling RbI data\n",
    "\n",
    "dataframe.to_csv(path + \"dataset.csv\")\n",
    "#dataframe.to_csv(path + \"outtest_dataset.csv\")"
   ]
  }
 ],
 "metadata": {
  "kernelspec": {
   "display_name": "Python 3",
   "language": "python",
   "name": "python3"
  },
  "language_info": {
   "codemirror_mode": {
    "name": "ipython",
    "version": 3
   },
   "file_extension": ".py",
   "mimetype": "text/x-python",
   "name": "python",
   "nbconvert_exporter": "python",
   "pygments_lexer": "ipython3",
   "version": "3.7.3"
  }
 },
 "nbformat": 4,
 "nbformat_minor": 2
}
