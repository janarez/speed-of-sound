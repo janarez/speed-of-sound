{
 "cells": [
  {
   "cell_type": "markdown",
   "metadata": {},
   "source": [
    "# Final model evaluation\n",
    "\n",
    "This is the final notebook of the speed of sound prediction experiment.\n",
    "It tests final models using three different tests.\n",
    " \n",
    " - General test\n",
    " - Inside matrix test\n",
    " - Outside matrix test"
   ]
  },
  {
   "cell_type": "code",
   "execution_count": null,
   "metadata": {},
   "outputs": [],
   "source": [
    "# dependecies\n",
    "\n",
    "import pandas as pd\n",
    "import numpy as np\n",
    "import matplotlib as mpl\n",
    "import matplotlib.pyplot as plt\n",
    "\n",
    "%matplotlib inline"
   ]
  },
  {
   "cell_type": "markdown",
   "metadata": {},
   "source": [
    "__Restore the splitted data__"
   ]
  },
  {
   "cell_type": "code",
   "execution_count": null,
   "metadata": {},
   "outputs": [],
   "source": [
    "%store -r X_train\n",
    "%store -r y_train"
   ]
  },
  {
   "cell_type": "code",
   "execution_count": null,
   "metadata": {},
   "outputs": [],
   "source": [
    "%store -r X_val\n",
    "%store -r y_val"
   ]
  },
  {
   "cell_type": "code",
   "execution_count": null,
   "metadata": {},
   "outputs": [],
   "source": [
    "%store -r X_test\n",
    "%store -r y_test"
   ]
  },
  {
   "cell_type": "markdown",
   "metadata": {},
   "source": [
    "__Merge training and validation data for general test on test data__"
   ]
  },
  {
   "cell_type": "code",
   "execution_count": null,
   "metadata": {},
   "outputs": [],
   "source": [
    "X = pd.concat([X_train, X_val])\n",
    "y = np.concatenate((y_train, y_val))"
   ]
  },
  {
   "cell_type": "markdown",
   "metadata": {},
   "source": [
    "__Metrics funtion__"
   ]
  },
  {
   "cell_type": "code",
   "execution_count": null,
   "metadata": {},
   "outputs": [],
   "source": [
    "# r2 and rmse and AARD returning function\n",
    "from sklearn.metrics import r2_score, mean_squared_error\n",
    "\n",
    "def result_stats(actual, predicted):\n",
    "    \"\"\"\n",
    "    Returns r_2, rmse and AARD value for two arrays of equal length\n",
    "    \"\"\"\n",
    "    \n",
    "    r2 = r2_score(actual, predicted)\n",
    "    rmse = np.sqrt(mean_squared_error( actual, predicted ))\n",
    "    aard = (100 / len(actual)) * np.sum(np.abs((actual - predicted) / actual))\n",
    "    \n",
    "    return r2,rmse, aard"
   ]
  },
  {
   "cell_type": "markdown",
   "metadata": {},
   "source": [
    "__Restore optimal hyperparameters, feature sets for SVM and random forest models__"
   ]
  },
  {
   "cell_type": "code",
   "execution_count": null,
   "metadata": {},
   "outputs": [],
   "source": [
    "%store -r svm_params\n",
    "%store -r svm_features"
   ]
  },
  {
   "cell_type": "code",
   "execution_count": null,
   "metadata": {},
   "outputs": [],
   "source": [
    "%store -r rf_params\n",
    "# the random forest has optimized max_features hyperparameter\n",
    "# it is therefore trained on full feature set"
   ]
  },
  {
   "cell_type": "markdown",
   "metadata": {},
   "source": [
    "__Import the models__"
   ]
  },
  {
   "cell_type": "code",
   "execution_count": null,
   "metadata": {},
   "outputs": [],
   "source": [
    "from sklearn.svm import SVR as SVM\n",
    "svm = SVM(gamma = \"auto\", **svm_params)    # gamma value is left at default; explicitly set to surpress warnings"
   ]
  },
  {
   "cell_type": "code",
   "execution_count": null,
   "metadata": {},
   "outputs": [],
   "source": [
    "from sklearn.ensemble import RandomForestRegressor as RF\n",
    "rf = RF(n_estimators = 20, **rf_params)    # use 20 estimators"
   ]
  },
  {
   "cell_type": "markdown",
   "metadata": {},
   "source": [
    "## General test\n",
    "\n",
    "This it the test the models were optimized for.\n",
    "\n",
    " - Train: development data (training + validation data)\n",
    " - Test: test data"
   ]
  },
  {
   "cell_type": "markdown",
   "metadata": {},
   "source": [
    "__Plotting function__"
   ]
  },
  {
   "cell_type": "code",
   "execution_count": null,
   "metadata": {},
   "outputs": [],
   "source": [
    "def general_test_plot(model_pred):\n",
    "    \"\"\"\n",
    "    This function plots the residuals against both temperature and molality.\n",
    "    It also plots predicted vs experimental values.\n",
    "    Input: model predictions\n",
    "    \"\"\"\n",
    "    \n",
    "    # create figure for three graphs\n",
    "    fig, ax = plt.subplots(ncols = 3, nrows = 1, figsize = (20, 5))\n",
    "\n",
    "    \n",
    "    # Residual plot against normalized temperature\n",
    "    ax[0].scatter(x=X_test[\"T\"], y=model_pred - y_test, s =0.5, c=\"r\")\n",
    "    ax[0].set_xlabel(\"$T$\")\n",
    "    ax[0].set_title(\"Residual plot against normalized temperature\")\n",
    "    ax[0].set_ylabel(\"$u$ [m/s]\")\n",
    "    \n",
    "    # Residual plot against normalized molality\n",
    "    ax[1].scatter(x=X_test[\"c\"], y=model_pred - y_test, s =0.5, c=\"r\")\n",
    "    ax[1].set_xlabel(\"$c$\")\n",
    "    ax[1].set_title(\"Residual plot against normalized molality\")\n",
    "    ax[1].set_ylabel(\"$u$ [m/s]\")\n",
    "    \n",
    "    # Predicted vs experimental values\n",
    "    ax[2].scatter(y=y_test, x=model_pred, s =0.8, c =\"r\")\n",
    "    ax[2].set_xlabel(\"Predicted $u$ [m/s]\")\n",
    "    ax[2].set_title(\"Predicted vs experimental values\")\n",
    "    ax[2].set_ylabel(\"Experimental $u$ [m/s]\")\n",
    "    \n",
    "    # plot 0 residual line\n",
    "    ax[2].set_ylim(ax[2].get_ylim()[0],ax[2].get_ylim()[1])\n",
    "    ax[2].set_xlim(ax[2].get_xlim()[0],ax[2].get_xlim()[1])\n",
    "    ax[2].plot([1000, 2000], [1000, 2000], linewidth = 0.2, c = \"k\")"
   ]
  },
  {
   "cell_type": "markdown",
   "metadata": {},
   "source": [
    "### SVM regressor"
   ]
  },
  {
   "cell_type": "markdown",
   "metadata": {},
   "source": [
    "__RMSE__"
   ]
  },
  {
   "cell_type": "code",
   "execution_count": null,
   "metadata": {},
   "outputs": [],
   "source": [
    "# fit on development data, test on test set\n",
    "# use correct feature set\n",
    "svm.fit(X[svm_features], y)\n",
    "svm_pred = svm.predict(X_test[svm_features])\n",
    "print(\"General test RMSE for SVM model: RMSE {0:.2f}\".format(result_stats(svm_pred,y_test)[1]))"
   ]
  },
  {
   "cell_type": "markdown",
   "metadata": {},
   "source": [
    "__Result plots__"
   ]
  },
  {
   "cell_type": "code",
   "execution_count": null,
   "metadata": {},
   "outputs": [],
   "source": [
    "general_test_plot(svm_pred)\n",
    "\n",
    "# get current figure to add correct figure title\n",
    "fig = plt.gcf()    \n",
    "fig.suptitle(\"General test on SVM model\", x = 0.5, y = 1, size = 14)\n",
    "plt.show()"
   ]
  },
  {
   "cell_type": "markdown",
   "metadata": {},
   "source": [
    "### Random forest regressor"
   ]
  },
  {
   "cell_type": "markdown",
   "metadata": {},
   "source": [
    "__RMSE__"
   ]
  },
  {
   "cell_type": "code",
   "execution_count": null,
   "metadata": {},
   "outputs": [],
   "source": [
    "# fit on development data, test on test set\n",
    "rf.fit(X, y)\n",
    "rf_pred = rf.predict(X_test)\n",
    "print(\"General test RMSE for random forest model: RMSE {0:.2f}\".format(result_stats(rf_pred,y_test)[1]))"
   ]
  },
  {
   "cell_type": "markdown",
   "metadata": {},
   "source": [
    "__Result plots__"
   ]
  },
  {
   "cell_type": "code",
   "execution_count": null,
   "metadata": {},
   "outputs": [],
   "source": [
    "general_test_plot(rf_pred)\n",
    "\n",
    "# get current figure to add correct figure title\n",
    "fig = plt.gcf()    \n",
    "fig.suptitle(\"General test on random forest model\", x = 0.5, y = 1, size = 14)\n",
    "plt.show()"
   ]
  },
  {
   "cell_type": "markdown",
   "metadata": {},
   "source": [
    "## Inside matrix test\n",
    "\n",
    "This test tests how well the models can predict data for an electrolyte not present in training data.<br>\n",
    "For each medium a graph of both predicted (red) and actual (black) speed of sound values against temperature is plotted.\n",
    "\n",
    " - Train: data on all but one electrolyte\n",
    " - Test: the remaining electrolyte data"
   ]
  },
  {
   "cell_type": "code",
   "execution_count": null,
   "metadata": {},
   "outputs": [],
   "source": [
    "# load dataset with all the preprocessed data\n",
    "# the original temperature values are stored in T_orig feature\n",
    "df = pd.read_csv(\"../datasets/preprocessed.csv\", index_col = 0)"
   ]
  },
  {
   "cell_type": "code",
   "execution_count": null,
   "metadata": {},
   "outputs": [],
   "source": [
    "df.head()"
   ]
  },
  {
   "cell_type": "code",
   "execution_count": null,
   "metadata": {},
   "outputs": [],
   "source": [
    "# get the list of all available electrolytes\n",
    "mediums = df[\"medium\"].unique()"
   ]
  },
  {
   "cell_type": "markdown",
   "metadata": {},
   "source": [
    "### Run the inside matrix test for each electrolyte"
   ]
  },
  {
   "cell_type": "markdown",
   "metadata": {},
   "source": [
    "The inside_matrix_test function defined below plots the graph of inside matrix test for each electrolyte. The RMSE error is noted in the graph's title."
   ]
  },
  {
   "cell_type": "code",
   "execution_count": null,
   "metadata": {},
   "outputs": [],
   "source": [
    "def inside_matrix_test(model, features):\n",
    "    \"\"\"\n",
    "    This function plots actual and predicted speed of sound values for all mediums in df.\n",
    "    df is the dataframe with all data.\n",
    "    The predictions are trained on input model with input feature set.\n",
    "    \"\"\"\n",
    "    for medium in mediums:\n",
    "        # form the test/train sets\n",
    "        df_test = df[df[\"medium\"] == medium]\n",
    "        df_train = df[df[\"medium\"] != medium]\n",
    "    \n",
    "        model.fit(df_train[features],df_train[\"sound\"])\n",
    "        model_pred = model.predict(df_test[features])\n",
    "        _, r, _ = result_stats(model_pred,df_test[\"sound\"])\n",
    "        \n",
    "        # plot predictions red\n",
    "        plt.scatter(x=df_test[\"T_orig\"], y=model_pred, s =0.5, c = \"r\")        \n",
    "        # plot actual values black\n",
    "        plt.scatter(x=df_test[\"T_orig\"], y=df_test[\"sound\"], s =0.5, c=\"k\")\n",
    "    \n",
    "        plt.xlabel(\"$T$ [K]\")\n",
    "        plt.title(\"Predicted vs real speed of sound values of {0}. RMSE: {1:.1f}\".format(medium, r))\n",
    "        plt.ylabel(\"$u$ [m/s]\")\n",
    "\n",
    "        plt.show()"
   ]
  },
  {
   "cell_type": "markdown",
   "metadata": {},
   "source": [
    "### SVM regressor"
   ]
  },
  {
   "cell_type": "code",
   "execution_count": null,
   "metadata": {},
   "outputs": [],
   "source": [
    "inside_matrix_test(svm, svm_features)"
   ]
  },
  {
   "cell_type": "markdown",
   "metadata": {},
   "source": [
    "### Random forest regressor"
   ]
  },
  {
   "cell_type": "code",
   "execution_count": null,
   "metadata": {},
   "outputs": [],
   "source": [
    "inside_matrix_test(rf, list(X.columns))"
   ]
  },
  {
   "cell_type": "markdown",
   "metadata": {},
   "source": [
    "### List of all inside matrix test results"
   ]
  },
  {
   "cell_type": "code",
   "execution_count": null,
   "metadata": {},
   "outputs": [],
   "source": [
    "for medium in mediums:\n",
    "    \n",
    "    df_test = df[df[\"medium\"] == medium]\n",
    "    df_train = df[df[\"medium\"] != medium]\n",
    "    \n",
    "    # svm predictions\n",
    "    svm.fit(df_train[svm_features],df_train[\"sound\"])\n",
    "    svm_pred = svm.predict(df_test[svm_features])\n",
    "    _, r_svm , _ = result_stats(svm_pred,df_test[\"sound\"])\n",
    "    \n",
    "    # rf predictions\n",
    "    rf.fit(df_train[list(X.columns)],df_train[\"sound\"])\n",
    "    rf_pred = rf.predict(df_test[list(X.columns)])\n",
    "    _, r_rf , _ = result_stats(rf_pred,df_test[\"sound\"])\n",
    "    \n",
    "    print(\"{0:10} SVM RMSE {1:5.1f}; RF RMSE {2:5.1f}\".format(medium, r_svm, r_rf))"
   ]
  },
  {
   "cell_type": "markdown",
   "metadata": {},
   "source": [
    "## Outside matrix test\n",
    "\n",
    "This test tests how well the models can predict data for an electrolyte having of its ions completely outside the training data.\n",
    "\n",
    " - Train: all (training + validation + test data)\n",
    " - Test: additional RbI data"
   ]
  },
  {
   "cell_type": "code",
   "execution_count": null,
   "metadata": {},
   "outputs": [],
   "source": [
    "# load the RbI dataset\n",
    "try:\n",
    "    outtest = pd.read_csv(\"../datasets/o_preprocessed.csv\", index_col = 0)    \n",
    "except FileNotFoundError:\n",
    "        print(\"The creation of o_preprocessed.csv must have been skipped\")"
   ]
  },
  {
   "cell_type": "markdown",
   "metadata": {},
   "source": [
    "### SVM regressor"
   ]
  },
  {
   "cell_type": "markdown",
   "metadata": {},
   "source": [
    "__RMSE__"
   ]
  },
  {
   "cell_type": "code",
   "execution_count": null,
   "metadata": {},
   "outputs": [],
   "source": [
    "svm.fit(df[svm_features], df[\"sound\"])\n",
    "svm_pred = svm.predict(outtest[svm_features])\n",
    "print(\"Outside matrix test RMSE for SVM model: RMSE {0:.2f}\".format(result_stats(svm_pred,outtest[\"sound\"])[1]))"
   ]
  },
  {
   "cell_type": "markdown",
   "metadata": {},
   "source": [
    "__Plot of predicted (red) and experimental (black) sound speeds__"
   ]
  },
  {
   "cell_type": "code",
   "execution_count": null,
   "metadata": {},
   "outputs": [],
   "source": [
    "plt.scatter(x=outtest[\"T\"], y=svm_pred, marker = \"o\", s =0.5, c = \"r\")\n",
    "plt.scatter(x=outtest[\"T\"], y=outtest[\"sound\"], s =0.5, c=\"k\", marker = 'x')\n",
    "\n",
    "plt.xlabel(\"$T$ [K]\")\n",
    "plt.title(\"Predicted vs real speed of sound values of RbI\")\n",
    "plt.ylabel(\"$u$ [m/s]\")\n",
    "\n",
    "plt.show()"
   ]
  },
  {
   "cell_type": "markdown",
   "metadata": {},
   "source": [
    "### Random forest regressor"
   ]
  },
  {
   "cell_type": "markdown",
   "metadata": {},
   "source": [
    "__RMSE__"
   ]
  },
  {
   "cell_type": "code",
   "execution_count": null,
   "metadata": {},
   "outputs": [],
   "source": [
    "rf.fit(df[list(X.columns)], df[\"sound\"])\n",
    "rf_pred = rf.predict(outtest[list(X.columns)])\n",
    "print(\"Outside matrix test RMSE for random forest model: RMSE {0:.2f}\".format(result_stats(rf_pred,outtest[\"sound\"])[1]))"
   ]
  },
  {
   "cell_type": "markdown",
   "metadata": {},
   "source": [
    "__Plot of predicted (red) and experimental (black) sound speeds__"
   ]
  },
  {
   "cell_type": "code",
   "execution_count": null,
   "metadata": {},
   "outputs": [],
   "source": [
    "plt.scatter(x=outtest[\"T\"], y=rf_pred, marker = \"o\", s =0.5, c = \"r\")\n",
    "plt.scatter(x=outtest[\"T\"], y=outtest[\"sound\"], s =0.5, c=\"k\", marker = 'x')\n",
    "\n",
    "plt.xlabel(\"$T$ [K]\")\n",
    "plt.title(\"Predicted vs real speed of sound values of RbI\")\n",
    "plt.ylabel(\"$u$ [m/s]\")\n",
    "\n",
    "plt.show()"
   ]
  },
  {
   "cell_type": "markdown",
   "metadata": {},
   "source": [
    "### Variation on outside matrix test\n",
    "__This is not discussed in the thesis__<br>\n",
    "Variation on the outside matrix test was carried out by removing all data for a fixed cation or anion from the original electrolytes. This test was carried for each ion.\n",
    "\n",
    " - Train: All data, except for all data for a given ion\n",
    " - Test: All data for the removed ion"
   ]
  },
  {
   "cell_type": "markdown",
   "metadata": {},
   "source": [
    "__Define all ions__"
   ]
  },
  {
   "cell_type": "code",
   "execution_count": null,
   "metadata": {},
   "outputs": [],
   "source": [
    "# lists storing used ionic species\n",
    "\n",
    "cations = [\"Na\", \"K\", \"Li\", \"NH4\", \"H\"]\n",
    "anions = [\"Br\",\"Cl\", \"I\", \"2SO4\", \"2CO3\", \"NO3\", \"OH\"]"
   ]
  },
  {
   "cell_type": "markdown",
   "metadata": {},
   "source": [
    "__Outside matrix test for specific cation__"
   ]
  },
  {
   "cell_type": "code",
   "execution_count": null,
   "metadata": {},
   "outputs": [],
   "source": [
    "for c in cations:\n",
    "    # put data for cation c into test set\n",
    "    df_test = df[df[\"medium\"].apply(lambda x: x.startswith(c))]\n",
    "    df_train = df[df[\"medium\"].apply(lambda x: not x.startswith(c))]\n",
    "    \n",
    "    # svm predictions\n",
    "    svm.fit(df_train[svm_features],df_train[\"sound\"])\n",
    "    svm_pred = svm.predict(df_test[svm_features])\n",
    "    _, r_svm , _ = result_stats(svm_pred,df_test[\"sound\"])\n",
    "    \n",
    "    # rf predictions\n",
    "    rf.fit(df_train[list(X.columns)],df_train[\"sound\"])\n",
    "    rf_pred = rf.predict(df_test[list(X.columns)])\n",
    "    _, r_rf , _ = result_stats(rf_pred,df_test[\"sound\"])\n",
    "    \n",
    "    print(\"{0}: SVM RMSE {1:.1f}; RF RMSE {2:.1f}\".format(c, r_svm, r_rf))"
   ]
  },
  {
   "cell_type": "markdown",
   "metadata": {},
   "source": [
    "__Outside matrix test for specific anion__"
   ]
  },
  {
   "cell_type": "code",
   "execution_count": null,
   "metadata": {},
   "outputs": [],
   "source": [
    "for a in anions:\n",
    "    # put data for anion a into test set\n",
    "    df_test = df[df[\"medium\"].apply(lambda x: x.endswith(a))]\n",
    "    df_train = df[df[\"medium\"].apply(lambda x: not x.endswith(a))]\n",
    "    \n",
    "    # svm predictions\n",
    "    svm.fit(df_train[svm_features],df_train[\"sound\"])\n",
    "    svm_pred = svm.predict(df_test[svm_features])\n",
    "    _, r_svm , _ = result_stats(svm_pred,df_test[\"sound\"])\n",
    "    \n",
    "    # rf predictions\n",
    "    rf.fit(df_train[list(X.columns)],df_train[\"sound\"])\n",
    "    rf_pred = rf.predict(df_test[list(X.columns)])\n",
    "    _, r_rf , _ = result_stats(rf_pred,df_test[\"sound\"])\n",
    "    \n",
    "    print(\"{0}: SVM RMSE {1:.1f}; RF RMSE {2:.1f}\".format(a, r_svm, r_rf))"
   ]
  }
 ],
 "metadata": {
  "kernelspec": {
   "display_name": "Python 3",
   "language": "python",
   "name": "python3"
  },
  "language_info": {
   "codemirror_mode": {
    "name": "ipython",
    "version": 3
   },
   "file_extension": ".py",
   "mimetype": "text/x-python",
   "name": "python",
   "nbconvert_exporter": "python",
   "pygments_lexer": "ipython3",
   "version": "3.7.3"
  }
 },
 "nbformat": 4,
 "nbformat_minor": 2
}
