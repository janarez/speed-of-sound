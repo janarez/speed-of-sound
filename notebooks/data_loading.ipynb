{
 "cells": [
  {
   "cell_type": "markdown",
   "metadata": {},
   "source": [
    "# Data loading and visualizations\n",
    "\n",
    "This is the first notebook used in the speed of sound prediction experiment. It loads all input CSV files. There are several data visualization functions in the second part of the notebook."
   ]
  },
  {
   "cell_type": "code",
   "execution_count": null,
   "metadata": {},
   "outputs": [],
   "source": [
    "# dependencies\n",
    "\n",
    "import pandas as pd\n",
    "import numpy as np\n",
    "import matplotlib as mpl\n",
    "from matplotlib import pyplot as plt\n",
    "import sys\n",
    "import os\n",
    "\n",
    "%matplotlib inline"
   ]
  },
  {
   "cell_type": "markdown",
   "metadata": {},
   "source": [
    "## Definition of all chemistry related variables\n",
    "All used chemical names and properties are definied to be used later in code"
   ]
  },
  {
   "cell_type": "code",
   "execution_count": null,
   "metadata": {},
   "outputs": [],
   "source": [
    "# lists storing used ionic species\n",
    "\n",
    "cations = [\"Na\", \"K\", \"Li\", \"NH4\", \"H\"]\n",
    "anions = [\"Br\",\"Cl\", \"I\", \"2SO4\", \"2CO3\", \"NO3\", \"OH\"]"
   ]
  },
  {
   "cell_type": "code",
   "execution_count": null,
   "metadata": {},
   "outputs": [],
   "source": [
    "# dictionary converting species to its textual representation \n",
    "# with super / subscripts\n",
    "\n",
    "chem_repr = {\"Na\" : r'$\\mathrm{Na}^+$',\n",
    "             \"K\" : r'$\\mathrm{K}^+$',\n",
    "             \"NH4\" : r'$\\mathrm{NH}_4^+$',\n",
    "             \"Li\" : r'$\\mathrm{Li}^+$',\n",
    "             \"H\" : r'$\\mathrm{H}^+$',\n",
    "             \"Br\" : r'$\\mathrm{Br}^-$',\n",
    "             \"Cl\" : r'$\\mathrm{Cl}^-$',\n",
    "             \"I\" : r'$\\mathrm{I}^-$',\n",
    "             \"2SO4\" : r'$\\mathrm{SO}_4^{2-}$',\n",
    "             \"2CO3\" : r'$\\mathrm{CO}_3^{2-}$',\n",
    "             \"NO3\" : r'$\\mathrm{NO}_3^-$',\n",
    "             \"OH\" : r'$\\mathrm{OH}^-$'}"
   ]
  },
  {
   "cell_type": "code",
   "execution_count": null,
   "metadata": {},
   "outputs": [],
   "source": [
    "# experimental dimensions\n",
    "parameters = [\"T\", \"sound\", \"c\"]"
   ]
  },
  {
   "cell_type": "code",
   "execution_count": null,
   "metadata": {},
   "outputs": [],
   "source": [
    "# units for for all experimental physical dimensions\n",
    "units = {\"T\":\"K\", \"c\": \"mol/kg\", \"sound\": \"m/s\"}"
   ]
  },
  {
   "cell_type": "markdown",
   "metadata": {},
   "source": [
    "## Load CSV files into pandas DataFrames\n",
    "CSV files are loaded from the `data/` directory. The electrolyte names are created by concatenation of cation and anion names and have the following format: `water_electrolyte.csv`."
   ]
  },
  {
   "cell_type": "code",
   "execution_count": null,
   "metadata": {},
   "outputs": [],
   "source": [
    "# the file path to csv files\n",
    "# current working directory must be the notebook's directory\n",
    "# if it is not use os.chdir(path) to set it there\n",
    "\n",
    "file_path = r\"../data/\""
   ]
  },
  {
   "cell_type": "markdown",
   "metadata": {},
   "source": [
    "__Helper functions for data loading__"
   ]
  },
  {
   "cell_type": "code",
   "execution_count": null,
   "metadata": {},
   "outputs": [],
   "source": [
    "def csv_read(filename):\n",
    "    \"\"\"\n",
    "    Loads CSV file. Filename is the path to file. \n",
    "    Returns CSV contents as pandas DataFrame.\n",
    "    Accepts ',' or ';' separators. \n",
    "    First row is header, next two are skipped. \n",
    "    First column is index.  \n",
    "    \"\"\"\n",
    "    \n",
    "    try:\n",
    "        with open(filename, 'r') as csv:\n",
    "            df = pd.read_csv(csv,header=0, sep = \"[,;]\", \n",
    "                             skiprows = [1,2], index_col=0)\n",
    "    \n",
    "    except FileNotFoundError:\n",
    "        print(\"{0} does not exist\".format(filename))\n",
    "    except:\n",
    "        print(\"Unexpected error with {0}: {1}\"\n",
    "              .format(filename, sys.exc_info()[0]))\n",
    "    else:\n",
    "        return df"
   ]
  },
  {
   "cell_type": "code",
   "execution_count": null,
   "metadata": {},
   "outputs": [],
   "source": [
    "def cation_anion_switch(element):\n",
    "    \"\"\"\n",
    "    Returns anions list for cation and vice versa.\n",
    "    \"\"\"\n",
    "    \n",
    "    if element in cations:\n",
    "        return anions\n",
    "    elif element in anions:\n",
    "        return cations\n",
    "    else:\n",
    "        raise NameError(\"Unknown element {0}\".format(element))"
   ]
  },
  {
   "cell_type": "code",
   "execution_count": null,
   "metadata": {},
   "outputs": [],
   "source": [
    "def load_by_ion(ion):\n",
    "    \"\"\"\n",
    "    Loads and creates list of all dataframes containing input ion. \n",
    "    Empty dataframe is inserted for nonavailable \n",
    "    cation/anion combination.\n",
    "    Files are loaded from file_path folder.\n",
    "    \"\"\"\n",
    "    \n",
    "    counterions = cation_anion_switch(ion)\n",
    "    path = file_path + r\"water_\"\n",
    "    list = []\n",
    "    empty_df = pd.DataFrame()\n",
    "    \n",
    "    for i in counterions:\n",
    "        \n",
    "        # check ion identity to produce correct filename\n",
    "        if ion in cations: \n",
    "            filename = path + ion + i + \".csv\"\n",
    "        else:\n",
    "            filename = path + i + ion + \".csv\"\n",
    "        \n",
    "        if os.path.exists(filename):\n",
    "            list.append(csv_read(filename))\n",
    "        else:\n",
    "            print(\"{0} does not exist\".format(filename))\n",
    "            list.append(empty_df)\n",
    "    \n",
    "    return list\n",
    "    "
   ]
  },
  {
   "cell_type": "markdown",
   "metadata": {},
   "source": [
    "### Load all datasets"
   ]
  },
  {
   "cell_type": "code",
   "execution_count": null,
   "metadata": {},
   "outputs": [],
   "source": [
    "NH4 = load_by_ion(\"NH4\")\n",
    "Na = load_by_ion(\"Na\")\n",
    "K = load_by_ion(\"K\")\n",
    "Li = load_by_ion(\"Li\")\n",
    "H = load_by_ion(\"H\")"
   ]
  },
  {
   "cell_type": "code",
   "execution_count": null,
   "metadata": {},
   "outputs": [],
   "source": [
    "# stores all DataFrames as a list of lists of DataFrames\n",
    "# each for one cation\n",
    "all_cation_dfs = [Na, K, Li, NH4, H]"
   ]
  },
  {
   "cell_type": "code",
   "execution_count": null,
   "metadata": {},
   "outputs": [],
   "source": [
    "Cl = load_by_ion(\"Cl\")\n",
    "Br = load_by_ion(\"Br\")\n",
    "I = load_by_ion(\"I\")\n",
    "SO4 = load_by_ion(\"2SO4\")\n",
    "CO3 = load_by_ion(\"2CO3\")\n",
    "NO3 = load_by_ion(\"NO3\")\n",
    "OH = load_by_ion(\"OH\")"
   ]
  },
  {
   "cell_type": "code",
   "execution_count": null,
   "metadata": {},
   "outputs": [],
   "source": [
    "# stores all DataFrames as a list of lists of DataFrames\n",
    "# each for one anion\n",
    "all_anion_dfs = [Br, Cl, I, SO4, CO3, NO3, OH]"
   ]
  },
  {
   "cell_type": "code",
   "execution_count": null,
   "metadata": {},
   "outputs": [],
   "source": [
    "# print dataset sizes for all considered electrolytes\n",
    "\n",
    "for cation, dfs in zip(cations, all_cation_dfs):\n",
    "    for anion, df in zip(anions, dfs):\n",
    "        print(\"Size of {0}{1} dataset: {2}\".format(cation, anion, df.shape[0]))"
   ]
  },
  {
   "cell_type": "code",
   "execution_count": null,
   "metadata": {},
   "outputs": [],
   "source": [
    "# store the lists of DataFrames, so that they can be access across all the notebooks\n",
    "%store all_cation_dfs\n",
    "%store all_anion_dfs"
   ]
  },
  {
   "cell_type": "markdown",
   "metadata": {},
   "source": [
    "## Data visualizations:\n",
    "Every visualization has configurable parameter (T, c, sound).\n",
    " - plot_parameter_range: displays min and max value\n",
    " - boxplot_parameter: displays boxplot\n",
    " - plot_sound: displays variation of sound with given parameter\n",
    "    \n",
    "Every visualization can be plotted for single ion or for more ions. To plot all electrolyte data use these functions:\n",
    " - plot_all_parameter_ranges\n",
    " - boxplot_all_parameter\n",
    " - plot_all_sound"
   ]
  },
  {
   "cell_type": "markdown",
   "metadata": {},
   "source": [
    "__Helper functions__"
   ]
  },
  {
   "cell_type": "code",
   "execution_count": null,
   "metadata": {},
   "outputs": [],
   "source": [
    "# this function operates figures with more than one subplot\n",
    "\n",
    "def plot_for_all(*data, parameter = \"T\", function):\n",
    "    \"\"\"\n",
    "    Non named parameters are passed as follows: \n",
    "    df_list_1, ..., df_list_N, ion_1, ..., ion_N\n",
    "    Funtion cretes figure with len(data) / 2 subplots. \n",
    "    Calls function for every axes.\n",
    "    Each call to funtion is for one ion and corresponding df_list.\n",
    "    \"\"\"\n",
    "    # determine the number of used species\n",
    "    total_params = len(data)\n",
    "    size = total_params // 2\n",
    "    \n",
    "    # check that at least two species are plotted\n",
    "    if size == 1:\n",
    "        print(\"This function is not intended for one species. \" \n",
    "              \"Use simple plot_parameter() instead.\")\n",
    "        return\n",
    "    \n",
    "    # create the figure\n",
    "    fig, ax = plt.subplots(nrows=1, ncols = size, \n",
    "                           sharex = False, sharey = True)\n",
    "    # stack figures next to each other\n",
    "    plt.subplots_adjust(wspace = 0)\n",
    "    \n",
    "    plotting_function = function\n",
    "    \n",
    "    # call plotting_function for each input ion\n",
    "    for i in range(size):\n",
    "        try:\n",
    "            dfs = data[i]\n",
    "            ion = data[i + size]\n",
    "            \n",
    "            plotting_function(dfs, ion, \n",
    "                              parameter = parameter, \n",
    "                              subplot = ax[i])\n",
    "        except:\n",
    "            print(\"Incorrect data input\")\n",
    "\n",
    "    plt.show()"
   ]
  },
  {
   "cell_type": "markdown",
   "metadata": {},
   "source": [
    "### Parameter range plotting\n",
    "Displays min and max values for selected parameter \"T\", \"c\" or \"sound\""
   ]
  },
  {
   "cell_type": "code",
   "execution_count": null,
   "metadata": {},
   "outputs": [],
   "source": [
    "# this function does not plot\n",
    "# it extracts ranges used for plot_parameter_range\n",
    "\n",
    "def parameter_range(df_list, ion, *, parameter=\"T\", printing = True):\n",
    "    \"\"\"\n",
    "    Returns list of triples (counter_ion, min, max)\n",
    "    for input ion and input dataframes (df_list).\n",
    "    If printing == True then all triples are printed out \n",
    "    with supporting text.\n",
    "    \"\"\"\n",
    "    \n",
    "    if printing:\n",
    "        print(\"Range of \" + parameter + \" values for ion \" + ion)\n",
    "    \n",
    "    range_data = []\n",
    "    pair_ions = cation_anion_switch(ion)\n",
    "    \n",
    "    # print and/or save the range for every counter ion to input ion\n",
    "    for (df, i) in zip(df_list, pair_ions):\n",
    "        if df.empty != True:\n",
    "            if printing:\n",
    "                print(i, end = \"\\t\")\n",
    "            try:\n",
    "                column = df[parameter]\n",
    "            except:\n",
    "                if printing:\n",
    "                    print(\"Nonexistent column \" + parameter + \n",
    "                          \" for \" + ion + \" with \" + i)            \n",
    "            else:\n",
    "                minimum = column.min()\n",
    "                maximum = column.max()\n",
    "                range_data.append((chem_repr[i],minimum,maximum))\n",
    "                if printing:\n",
    "                    print(\"{0:.2f}\".format(minimum), end = \"    \")\n",
    "                    print(\"{0:.2f}\".format(maximum))\n",
    "        else:\n",
    "            # append NA tag to result for non-available datasets\n",
    "            range_data.append((chem_repr[i],\"NA\",\"NA\"))\n",
    "    \n",
    "    # return the obtained ranges\n",
    "    return range_data"
   ]
  },
  {
   "cell_type": "code",
   "execution_count": null,
   "metadata": {},
   "outputs": [],
   "source": [
    "def plot_parameter_range(df_list, ion,*, parameter=\"T\", subplot = None):\n",
    "    \"\"\"\n",
    "    Plots min and max values for paramater. \n",
    "    df_list stores dataframes for ion.\n",
    "    Figure axes can be passed through subplot parameter.\n",
    "    \"\"\"\n",
    "    # obtain the ranges\n",
    "    data = parameter_range(df_list, ion,\n",
    "                           parameter = parameter, printing = False)\n",
    "    labels = [\"\"]\n",
    "    data_range = range(len(data))\n",
    "    \n",
    "    # coordinates for displaying NA values\n",
    "    y = {\"T\":300, \"sound\":1500, \"c\":0.5}\n",
    "    \n",
    "    # create subplot if not provided\n",
    "    if subplot is None:\n",
    "        fig, subplot = plt.subplots(ncols=1, nrows=1)\n",
    "    \n",
    "    # plot either NA or min/max range\n",
    "    for i in data_range:\n",
    "        if data[i][1] == \"NA\":\n",
    "            subplot.text(s=\"NA\",x = i+1, y=y[parameter], \n",
    "                         horizontalalignment='center', \n",
    "                         verticalalignment='center',color='k')\n",
    "        else:\n",
    "            subplot.scatter([i+1]*2, [data[i][1], data[i][2]], \n",
    "                            color= \"r\")\n",
    "        # label is the counter ion to input ion\n",
    "        labels.append(data[i][0])\n",
    "    \n",
    "    # set the labels as xticks\n",
    "    subplot.set_xticks(list(range(len(data) + 1)))   \n",
    "    subplot.set_xticklabels(labels)\n",
    "    # the x-axis name is the input ion\n",
    "    subplot.set_xlabel(chem_repr[ion])\n",
    "    \n",
    "    # try to put graph title a y-axis label\n",
    "    # it is not used in matrix plotting later on\n",
    "    try:\n",
    "        fig = plt.gcf()\n",
    "        fig.suptitle(\"Range of {0} values for specified electrolytes\"\n",
    "                     .format(parameter), y = 0.93)\n",
    "        \n",
    "        fig.text(0.04, 0.5, \"{0} [{1}]\".\n",
    "                 format(parameter, units[parameter]), rotation = 90)\n",
    "    except:\n",
    "        pass\n"
   ]
  },
  {
   "cell_type": "code",
   "execution_count": null,
   "metadata": {},
   "outputs": [],
   "source": [
    "# example call\n",
    "plot_parameter_range(Li, \"Li\", parameter = \"c\")"
   ]
  },
  {
   "cell_type": "code",
   "execution_count": null,
   "metadata": {},
   "outputs": [],
   "source": [
    "def plot_all_parameter_ranges(*data, parameter = \"T\"):\n",
    "    \"\"\"\n",
    "    Extension of plot_parameter_range for more ions.\n",
    "    Non named parameters are passed as follows: \n",
    "    df_list_1, ..., df_list_N, ion_1, ..., ion_N\n",
    "    \"\"\"\n",
    "    \n",
    "    plot_for_all(*data, parameter=parameter, \n",
    "                 function=plot_parameter_range)\n",
    "    "
   ]
  },
  {
   "cell_type": "code",
   "execution_count": null,
   "metadata": {},
   "outputs": [],
   "source": [
    "# example call\n",
    "plot_all_parameter_ranges(Li, H, \"Li\", \"H\", parameter = \"sound\")"
   ]
  },
  {
   "cell_type": "markdown",
   "metadata": {},
   "source": [
    "### Boxplot plotting\n",
    "Displays boxplot for selected parameter \"T\", \"c\" or \"sound\""
   ]
  },
  {
   "cell_type": "code",
   "execution_count": null,
   "metadata": {},
   "outputs": [],
   "source": [
    "def boxplot_parameter(df_list, ion, parameter=\"T\", subplot = None):\n",
    "    \"\"\"\n",
    "    Plots boxplots for paramater. df_list stores dataframes for ion.\n",
    "    Figure axes can be passed through subplot parameter.\n",
    "    \"\"\"\n",
    "        \n",
    "    columns = []\n",
    "    pair_ions = cation_anion_switch(ion)\n",
    "    # number of datasets is set to number of counter ions\n",
    "    # however in matrix plotting used later on only single electrolyte is plotted \n",
    "    data_range = len(pair_ions) if len(df_list) > 1 else 1\n",
    "    \n",
    "    # coordinates for displaying NA values\n",
    "    y = {\"T\":300, \"sound\":1500, \"c\":0.5}\n",
    "    \n",
    "    if subplot is None:\n",
    "        fig, subplot = plt.subplots(ncols=1, nrows=1)\n",
    "      \n",
    "    for pos, (df, i) in enumerate(zip(df_list, pair_ions)):\n",
    "        # plot NA for nonavailable dataset\n",
    "        if df.empty == True:\n",
    "            subplot.text(s=\"NA\",x = pos+1, y=y[parameter], \n",
    "                         horizontalalignment='center', \n",
    "                         verticalalignment='center',color='k')\n",
    "            columns.append([])\n",
    "        else:\n",
    "            # add values for available dataset so that boxplot can be plotted\n",
    "            try:\n",
    "                column = df[parameter]\n",
    "            except:\n",
    "                subplot.text(s=\"NA\",x = pos+1, y=y[parameter], \n",
    "                             horizontalalignment='center', \n",
    "                             verticalalignment='center',color='k')\n",
    "                columns.append([])\n",
    "            else:\n",
    "                columns.append(column)\n",
    "    \n",
    "    # plot the boxplots\n",
    "    subplot.boxplot(columns, medianprops=dict(linestyle='-', color=\"r\"))\n",
    "    subplot.set_xticks(list(range(data_range+1)))\n",
    "    \n",
    "    # xticks are counter ion names\n",
    "    labels = [\"\"] + [chem_repr[i] for i in pair_ions]\n",
    "    subplot.set_xticklabels(labels)\n",
    "    subplot.set_xlabel(chem_repr[ion])\n",
    "    \n",
    "    # try to put graph title a y-axis label\n",
    "    # it is not used in matrix plotting later on   \n",
    "    try:\n",
    "        fig = plt.gcf()\n",
    "        fig.suptitle(\"Boxplot of {0} dimension for specified electrolytes\"\n",
    "                     .format(parameter), y = 0.93)\n",
    "        fig.text(0.04, 0.5, \"{0} [{1}]\"\n",
    "                 .format(parameter, units[parameter]), rotation = 90)\n",
    "    except:\n",
    "        pass\n",
    "    \n"
   ]
  },
  {
   "cell_type": "code",
   "execution_count": null,
   "metadata": {},
   "outputs": [],
   "source": [
    "# example call\n",
    "boxplot_parameter(Li, \"Li\", parameter = \"T\")"
   ]
  },
  {
   "cell_type": "code",
   "execution_count": null,
   "metadata": {},
   "outputs": [],
   "source": [
    "def boxplot_all_parameter(*data, parameter = \"T\"):\n",
    "    \"\"\"\n",
    "    Extension of boxplot_parameter for more ions.\n",
    "    Non named parameters are passed as follows: \n",
    "    df_list_1, ..., df_list_N, ion_1, ..., ion_N\n",
    "    \"\"\"\n",
    "        \n",
    "    plot_for_all(*data, parameter = parameter, \n",
    "                 function = boxplot_parameter)"
   ]
  },
  {
   "cell_type": "code",
   "execution_count": null,
   "metadata": {},
   "outputs": [],
   "source": [
    "# example call\n",
    "boxplot_all_parameter(Li, H, \"Li\", \"H\", parameter = \"c\")"
   ]
  },
  {
   "cell_type": "markdown",
   "metadata": {},
   "source": [
    "### Plots of speed of sound variation along different dimensions\n",
    "Displays variation of speed of sound along either temperature of molality dimension"
   ]
  },
  {
   "cell_type": "code",
   "execution_count": null,
   "metadata": {},
   "outputs": [],
   "source": [
    "def plot_sound(df_list, ion,*, parameter = \"T\", \n",
    "               subplot = None, pair_ions = None):\n",
    "    \"\"\"\n",
    "    Plots variation in speed of sound with parameter. \n",
    "    df_list stores dataframes for ion.\n",
    "    Figure axes can be passed through subplot parameter. \n",
    "    The number of plotted\n",
    "    electrolytes can be limited through setting pair_ions parameter\n",
    "    to a list of counter ions.\n",
    "    \"\"\"\n",
    "    ion_pairs = cation_anion_switch(ion)\n",
    "    \n",
    "    # list of colours so that every electrolyte has different color\n",
    "    colors = [\"r\", \"b\", \"k\", \"m\", \"c\", \"y\", \"orange\"]\n",
    "    \n",
    "    # list designating if a counter ion will be plotted\n",
    "    # here preset to all True in case pair_ions is not limited\n",
    "    include = np.repeat(True, len(ion_pairs))\n",
    "\n",
    "    if not pair_ions is None:\n",
    "        include = [True if i in pair_ions else \n",
    "                   False for i in ion_pairs]\n",
    "    \n",
    "    if subplot is None:\n",
    "        fig, subplot = plt.subplots(nrows=1, ncols=1)\n",
    "    \n",
    "    # plot dataframe by dataframe\n",
    "    for n, (df, i) in enumerate(zip(df_list, ion_pairs)):\n",
    "        if df.empty == True:\n",
    "            continue\n",
    "        if include[n] == False:\n",
    "            continue\n",
    "        try:\n",
    "            column = df[parameter]\n",
    "        except:\n",
    "            pass\n",
    "        else:\n",
    "            try:\n",
    "                # groups dataframes by molality to disconnect unrelated data \n",
    "                for name, group in df.groupby(\"c\"):\n",
    "                    # some dataframes have continuos molality change\n",
    "                    # and are ploted as points\n",
    "                    if group.shape[0] == 1:\n",
    "                        lines, = subplot.plot(group[parameter].values, \n",
    "                                              group[\"sound\"].values, \n",
    "                                              marker='o',markersize=1,\n",
    "                                              color = colors[n])\n",
    "                    else:\n",
    "                        lines, = subplot.plot(group[parameter].values, \n",
    "                                              group[\"sound\"].values, \n",
    "                                              linewidth = 2, \n",
    "                                              color = colors[n])\n",
    "                # every line is labeled by corresponding counter ion\n",
    "                lines.set_label(\"{0}\".format(chem_repr[i]))\n",
    "            except:\n",
    "                pass\n",
    "    \n",
    "    # x-label is the input ion\n",
    "    subplot.set(xlabel=\"{0}\".format(chem_repr[ion]))\n",
    "    \n",
    "    # put legend lowerleft\n",
    "    if subplot.lines:\n",
    "        subplot.legend(loc = 3)\n",
    "\n",
    "    # in case of no data being plotted (missing dataframe in electrolyte matrix visualization) \n",
    "    else:\n",
    "        subplot.text(s=\"NA\",x = 0.5, y=0.5, \n",
    "                     horizontalalignment='center', \n",
    "                     verticalalignment='center',color='k',\n",
    "                     transform=subplot.transAxes)\n"
   ]
  },
  {
   "cell_type": "code",
   "execution_count": null,
   "metadata": {
    "scrolled": true
   },
   "outputs": [],
   "source": [
    "# example call; NaOH dataset\n",
    "plot_sound(Na, \"Na\", parameter = \"T\", pair_ions=[\"OH\"])"
   ]
  },
  {
   "cell_type": "code",
   "execution_count": null,
   "metadata": {},
   "outputs": [],
   "source": [
    "def plot_all_sound(*data, parameter=\"T\"):\n",
    "    \"\"\"\n",
    "    Extension of plot_sound for more ions.\n",
    "    Non named parameters are passed as follows: \n",
    "    df_list_1, ..., df_list_N, ion_1, ..., ion_N\n",
    "    \"\"\"\n",
    "    plot_for_all(*data, parameter=parameter, function=plot_sound)"
   ]
  },
  {
   "cell_type": "code",
   "execution_count": null,
   "metadata": {},
   "outputs": [],
   "source": [
    "# example call\n",
    "plot_all_sound(Li, Na, \"Li\",\"Na\", parameter = \"T\")"
   ]
  },
  {
   "cell_type": "markdown",
   "metadata": {},
   "source": [
    "## Data visualization matrix\n",
    "Type of visualization that using previously defined plotting visualizations shows data in the form of a matrix.\n",
    "Rows correspond to cations, while columns correspond to anions. Therefore each cell is an electrolyte."
   ]
  },
  {
   "cell_type": "code",
   "execution_count": null,
   "metadata": {},
   "outputs": [],
   "source": [
    "def plot_electrolyte_matrix(cations, anions, *data, \n",
    "                            typ = \"boxplot\", parameter = \"T\"):\n",
    "    \"\"\"\n",
    "    This function provides a way to visualize all electolyte data \n",
    "    using matrix system. \n",
    "    Cations forms rows, while anions form colums.\n",
    "    In every cell data is plotted for corresponding eletrolyte \n",
    "    using function provided in typ parameter.\n",
    "    Calling: plot_electrolyte_matrix(cations,anions, \n",
    "                                    *all_cation_dfs, **kwargs)\n",
    "    \"\"\"\n",
    "    \n",
    "    # check that accepted plotting type was used\n",
    "    if not typ in [\"boxplot\", \"range\", \"sound\"]:\n",
    "        print(\"Accepted types are: boxplot, range, sound\")\n",
    "        return\n",
    "    \n",
    "    # assign correct plot function\n",
    "    if typ == \"boxplot\":\n",
    "        plot_function = boxplot_parameter  \n",
    "    elif typ == \"sound\":\n",
    "        plot_function = plot_sound\n",
    "    elif typ == \"range\":\n",
    "        plot_function = plot_parameter_range\n",
    "    \n",
    "    # matrix dimensions\n",
    "    rows = len(cations)\n",
    "    cols = len(anions)\n",
    "    df_cations = data[:rows]\n",
    "    \n",
    "    # set fixed figure size\n",
    "    plt.rcParams[\"figure.figsize\"] = (2*cols,2*rows)\n",
    "    fig, ax = plt.subplots(nrows = rows, ncols = cols, \n",
    "                           sharey = True, sharex = True)\n",
    "    \n",
    "    # no white space between subplots\n",
    "    plt.subplots_adjust(wspace = 0, hspace = 0)\n",
    "        \n",
    "    # plot row by row\n",
    "    for row, (dfs, ion) in enumerate(zip(df_cations, cations)):\n",
    "        for col, df in enumerate(dfs):\n",
    "            plot_function([df], ion, \n",
    "                          parameter = parameter, \n",
    "                          subplot = ax[row][col])\n",
    "            \n",
    "            # remove legend created by plot_sound function\n",
    "            if typ == \"sound\" and ax[row][col].lines:\n",
    "                ax[row][col].get_legend().remove()\n",
    "    \n",
    "    # set cation / anion labels on y / x-axis\n",
    "    for row in range(rows):\n",
    "        ax[row][0].set_ylabel(chem_repr[cations[row]])\n",
    "    for col in range(cols):\n",
    "        ax[rows-1][col].set_xlabel(chem_repr[anions[col]])\n",
    "        \n",
    "        # remove x-ticks for boxplot and range type \n",
    "        # (only sound has units there)\n",
    "        if typ != \"sound\":\n",
    "            ax[rows-1][col].set_xticks([])\n",
    "    \n",
    "    # add axis labels and title\n",
    "    if typ == \"sound\":\n",
    "        fig.suptitle(\"Matrix showing sound speed variation with {0}\"\n",
    "                     .format(parameter), y = 0.92)\n",
    "        fig.text(0.05, 0.5, \"Sound speed [m/s]\", rotation=90)\n",
    "        fig.text(0.5,0.04, \"{0} [{1}]\"\n",
    "                 .format(parameter, units[parameter]))\n",
    "    elif typ == \"boxplot\":\n",
    "        fig.suptitle(\"Matrix showing boxplot for {0} parameter\"\n",
    "                     .format(parameter), y = 0.92)\n",
    "    elif typ == \"range\":\n",
    "        fig.suptitle(\"Matrix showing range of values for {0} parameter\"\n",
    "                     .format(parameter), y = 0.92)\n",
    "    # reset matplotlib to default    \n",
    "    mpl.rcdefaults()\n"
   ]
  },
  {
   "cell_type": "markdown",
   "metadata": {},
   "source": [
    "### Electrolyte matrix plots for all three visualizations and parameters"
   ]
  },
  {
   "cell_type": "markdown",
   "metadata": {},
   "source": [
    "__Variation of speed of sound with temperature__"
   ]
  },
  {
   "cell_type": "code",
   "execution_count": null,
   "metadata": {
    "scrolled": true
   },
   "outputs": [],
   "source": [
    "plot_electrolyte_matrix(cations,anions, *all_cation_dfs, typ = \"sound\")"
   ]
  },
  {
   "cell_type": "markdown",
   "metadata": {},
   "source": [
    "__Variation of speed of sound with molality__"
   ]
  },
  {
   "cell_type": "code",
   "execution_count": null,
   "metadata": {},
   "outputs": [],
   "source": [
    "plot_electrolyte_matrix(cations,anions, *all_cation_dfs,\n",
    "                        typ = \"sound\", parameter = \"c\")"
   ]
  },
  {
   "cell_type": "markdown",
   "metadata": {},
   "source": [
    "__Range of temperature values__"
   ]
  },
  {
   "cell_type": "code",
   "execution_count": null,
   "metadata": {},
   "outputs": [],
   "source": [
    "plot_electrolyte_matrix(cations,anions, *all_cation_dfs, typ = \"range\")"
   ]
  },
  {
   "cell_type": "markdown",
   "metadata": {},
   "source": [
    "__Range of molality values__"
   ]
  },
  {
   "cell_type": "code",
   "execution_count": null,
   "metadata": {},
   "outputs": [],
   "source": [
    "plot_electrolyte_matrix(cations,anions, *all_cation_dfs, \n",
    "                        typ = \"range\", parameter = \"c\")"
   ]
  },
  {
   "cell_type": "markdown",
   "metadata": {},
   "source": [
    "__Range of sound speed values__"
   ]
  },
  {
   "cell_type": "code",
   "execution_count": null,
   "metadata": {},
   "outputs": [],
   "source": [
    "plot_electrolyte_matrix(cations,anions, *all_cation_dfs, \n",
    "                        typ = \"range\", parameter = \"sound\")"
   ]
  },
  {
   "cell_type": "markdown",
   "metadata": {},
   "source": [
    "__Boxplot of temperature values__"
   ]
  },
  {
   "cell_type": "code",
   "execution_count": null,
   "metadata": {},
   "outputs": [],
   "source": [
    "plot_electrolyte_matrix(cations,anions,*all_cation_dfs,typ = \"boxplot\")"
   ]
  },
  {
   "cell_type": "markdown",
   "metadata": {},
   "source": [
    "__Boxplot of molality values__"
   ]
  },
  {
   "cell_type": "code",
   "execution_count": null,
   "metadata": {},
   "outputs": [],
   "source": [
    "plot_electrolyte_matrix(cations,anions, *all_cation_dfs, \n",
    "                        typ = \"boxplot\", parameter = \"c\")"
   ]
  },
  {
   "cell_type": "markdown",
   "metadata": {},
   "source": [
    "__Boxplot of sound speed values__"
   ]
  },
  {
   "cell_type": "code",
   "execution_count": null,
   "metadata": {},
   "outputs": [],
   "source": [
    "plot_electrolyte_matrix(cations,anions, *all_cation_dfs, \n",
    "                        typ = \"boxplot\", parameter = \"sound\")"
   ]
  }
 ],
 "metadata": {
  "kernelspec": {
   "display_name": "Python 3",
   "language": "python",
   "name": "python3"
  },
  "language_info": {
   "codemirror_mode": {
    "name": "ipython",
    "version": 3
   },
   "file_extension": ".py",
   "mimetype": "text/x-python",
   "name": "python",
   "nbconvert_exporter": "python",
   "pygments_lexer": "ipython3",
   "version": "3.7.3"
  }
 },
 "nbformat": 4,
 "nbformat_minor": 2
}
